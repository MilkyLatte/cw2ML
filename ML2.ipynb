{
 "cells": [
  {
   "cell_type": "code",
   "execution_count": 1,
   "metadata": {},
   "outputs": [
    {
     "name": "stderr",
     "output_type": "stream",
     "text": [
      "C:\\Users\\DavidShin\\Anaconda3\\lib\\site-packages\\ipykernel_launcher.py:74: DeprecationWarning: `imread` is deprecated!\n",
      "`imread` is deprecated in SciPy 1.0.0, and will be removed in 1.2.0.\n",
      "Use ``imageio.imread`` instead.\n"
     ]
    }
   ],
   "source": [
    "import numpy as np\n",
    "import matplotlib.pyplot as plt\n",
    "from scipy import misc\n",
    "import copy\n",
    "import time\n",
    "import cv2 as cv\n",
    "\n",
    "def add_gaussian_noise(im,prop,varSigma):\n",
    "    N = int(np.round(np.prod(im.shape)*prop))\n",
    "    index = np.unravel_index(np.random.permutation(np.prod(im.shape))[1:N],im.shape)\n",
    "    e = varSigma*np.random.randn(np.prod(im.shape)).reshape(im.shape)\n",
    "    im2 = np.copy(im).astype('float')\n",
    "    im2[index] += e[index]\n",
    "    return im2\n",
    "\n",
    "def add_saltnpeppar_noise(im,prop):\n",
    "    N = int(np.round(np.prod(im.shape)*prop))\n",
    "    index = np.unravel_index(np.random.permutation(np.prod(im.shape))[1:N],im.shape)\n",
    "    im2 = np.copy(im)\n",
    "    im2[index] = 1-im2[index]\n",
    "    return im2\n",
    "\n",
    "def binaryImage(image):\n",
    "    cp_image = copy.deepcopy(image)\n",
    "    for x in range(len(cp_image)):\n",
    "        for y in range(len(cp_image[0])):\n",
    "            cp_image[x][y] = round(cp_image[x][y])\n",
    "            if cp_image[x][y] < 0.5:\n",
    "                cp_image[x][y] = -1\n",
    "    return cp_image\n",
    "# proportion of pixels to alter\n",
    "\n",
    "def calculateEnergy(latent, noisy, i, j, beta, eta):\n",
    "    n = neighbours(i, j, latent.shape[0], latent.shape[1])\n",
    "    energy = eta*(latent[i][j]*noisy[i][j])\n",
    "    for m in n:\n",
    "        x, y = m\n",
    "        energy += beta * latent[x][y] * latent[i][j]\n",
    "    return energy\n",
    "\n",
    "def convertLatent(latent):\n",
    "    for i in range(latent.shape[0]):\n",
    "        for j in range(latent.shape[1]):\n",
    "            if latent[i][j] == 0:\n",
    "                latent[i][j] = -1\n",
    "    return latent\n",
    "\n",
    "def totalBlack(image):\n",
    "    black = 0\n",
    "    for i in range(image.shape[0]):\n",
    "            for j in range(image.shape[1]):\n",
    "                if image[i][j] == -1:\n",
    "                    black += 1\n",
    "    return black\n",
    "def pixelPercentage(latent, real):    \n",
    "    counter = 0\n",
    "    totalPix = totalBlack(real)\n",
    "    for i in range(latent.shape[0]):\n",
    "        for j in range(latent.shape[1]):\n",
    "            if latent[i][j] == -1 and real[i][j] == -1:\n",
    "                counter += 1\n",
    "    return counter/totalPix\n",
    "\n",
    "def plotAgraph(percentage, name):\n",
    "    iterations = np.linspace(0, len(percentage), len(percentage))\n",
    "    plt.plot(iterations, percentage)\n",
    "    plt.xlabel('Iterations', fontsize = 12)\n",
    "    plt.ylabel('Pixel ratio with original Image', fontsize = 12)\n",
    "#     plt.show()\n",
    "    plt.savefig(name)\n",
    "\n",
    "prop = 0.4\n",
    "varSigma = 4\n",
    "im = misc.imread('images/dexter.jpg')\n",
    "im = im/255\n",
    "im = binaryImage(im)\n",
    "fig = plt.figure(figsize = (20, 20))\n",
    "ax = fig.add_subplot(131)\n",
    "ax.imshow(im,cmap='gray')\n",
    "im2 = add_gaussian_noise(im,prop,varSigma)\n",
    "ax2 = fig.add_subplot(132)\n",
    "ax2.imshow(im2,cmap='gray')\n",
    "im3 = add_saltnpeppar_noise(im,prop)\n",
    "ax3 = fig.add_subplot(133)\n",
    "ax3.imshow(im3,cmap='gray')\n",
    "originalImage = convertLatent(im)"
   ]
  },
  {
   "cell_type": "code",
   "execution_count": 2,
   "metadata": {},
   "outputs": [],
   "source": [
    "def neighbours(i,j,M,N,size=4):\n",
    "    if size==4:\n",
    "        if (i==0 and j==0):\n",
    "            n=[(0,1), (1,0)]\n",
    "        elif i==0 and j==N-1:\n",
    "            n=[(0,N-2), (1,N-1)]\n",
    "        elif i==M-1 and j==0:\n",
    "            n=[(M-1,1), (M-2,0)]\n",
    "        elif i==M-1 and j==N-1:\n",
    "            n=[(M-1,N-2), (M-2,N-1)]\n",
    "        elif i==0:\n",
    "            n=[(0,j-1), (0,j+1), (1,j)]\n",
    "        elif i==M-1:\n",
    "            n=[(M-1,j-1), (M-1,j+1), (M-2,j)]\n",
    "        elif j==0:\n",
    "            n=[(i-1,0), (i+1,0), (i,1)]\n",
    "        elif j==N-1:\n",
    "            n=[(i-1,N-1), (i+1,N-1), (i,N-2)]\n",
    "        else:\n",
    "            n=[(i-1,j), (i+1,j), (i,j-1), (i,j+1)]\n",
    "        return n\n",
    "    if size==8:\n",
    "        print('Not yet implemented\\n')\n",
    "        return -1"
   ]
  },
  {
   "cell_type": "code",
   "execution_count": 3,
   "metadata": {
    "scrolled": true
   },
   "outputs": [],
   "source": [
    "def ICM(image, beta, eta, runs):\n",
    "    latentImage = copy.deepcopy(image)\n",
    "    latentImage = np.random.randint(2, size = image.shape)\n",
    "    pixelPercentages = []\n",
    "    for n in range(runs):\n",
    "        print(\"PIXEL SIMILARITY: \" + str(pixelPercentage(latentImage, originalImage)))\n",
    "        for i in range(image.shape[0]):\n",
    "            for j in range(image.shape[1]):\n",
    "                bros = neighbours(i, j, latentImage.shape[0], latentImage.shape[1])\n",
    "                latentImage[i][j] = 1\n",
    "                posEnergy = calculateEnergy(latentImage, image, i,j, beta, eta)\n",
    "                for m in bros:\n",
    "                    x, y = m\n",
    "                    posEnergy += calculateEnergy(latentImage, image, x, y, beta, eta)\n",
    "                latentImage[i][j] = -1\n",
    "                negEnergy = calculateEnergy(latentImage, image, i,j, beta, eta)\n",
    "                for m in bros:\n",
    "                    x, y = m\n",
    "                    negEnergy += calculateEnergy(latentImage, image, x, y, beta, eta)\n",
    "                if posEnergy > negEnergy:\n",
    "                    latentImage[i][j] = 1\n",
    "                else:\n",
    "                    latentImage[i][j] = -1\n",
    "                    \n",
    "#                 pixelPercentages.append(pixelPercentage(latentImage, originalImage))\n",
    "\n",
    "    return latentImage, np.array(pixelPercentages)"
   ]
  },
  {
   "cell_type": "code",
   "execution_count": 83,
   "metadata": {},
   "outputs": [
    {
     "name": "stdout",
     "output_type": "stream",
     "text": [
      "PIXEL SIMILARITY: 0.0\n",
      "PIXEL SIMILARITY: 0.6104589114194237\n",
      "PIXEL SIMILARITY: 0.6104589114194237\n",
      "PIXEL SIMILARITY: 0.6104589114194237\n",
      "PIXEL SIMILARITY: 0.6104589114194237\n",
      "4.000316858291626\n"
     ]
    },
    {
     "data": {
      "text/plain": [
       "<matplotlib.image.AxesImage at 0x205fc219e80>"
      ]
     },
     "execution_count": 83,
     "metadata": {},
     "output_type": "execute_result"
    },
    {
     "data": {
      "image/png": "[encoded data removed]",
      "text/plain": [
       "<Figure size 1440x1440 with 2 Axes>"
      ]
     },
     "metadata": {},
     "output_type": "display_data"
    }
   ],
   "source": [
    "fig = plt.figure(figsize = (20, 20))\n",
    "ax = fig.add_subplot(131)\n",
    "t0 = time.time()\n",
    "result, percentages = ICM(im3, 0.1, 1, 5)\n",
    "t1 = time.time()\n",
    "total_amount = t1 - t0\n",
    "# cv.imwrite(\"ICM with salt n pepper.jpg\", result)\n",
    "plt.imshow(result,cmap='gray')\n",
    "plt.savefig(\"ICM with salt n peper 0.1.jpg\")\n",
    "print(total_amount)\n",
    "ax2 = fig.add_subplot(132)\n",
    "plt.imshow(im3,cmap='gray')"
   ]
  },
  {
   "cell_type": "code",
   "execution_count": null,
   "metadata": {},
   "outputs": [],
   "source": [
    "# plotAgraph(percentage)"
   ]
  },
  {
   "cell_type": "code",
   "execution_count": null,
   "metadata": {},
   "outputs": [],
   "source": [
    "# fig = plt.figure(figsize = (20, 20))\n",
    "# ax = fig.add_subplot(131)\n",
    "t0 = time.time()\n",
    "result, percentages = ICM(im2, 0.2, 1, 5)\n",
    "t1 = time.time()\n",
    "total_amount = t1 - t0\n",
    "# cv.imwrite(\"ICM with salt n pepper.jpg\", result)\n",
    "plt.imshow(result,cmap='gray')\n",
    "plt.savefig(\"ICM with Gaussian noise pikachu.jpg\")\n",
    "print(total_amount)\n",
    "# ax2 = fig.add_subplot(132)\n",
    "# plt.imshow(im3,cmap='gray')"
   ]
  },
  {
   "cell_type": "code",
   "execution_count": null,
   "metadata": {},
   "outputs": [],
   "source": [
    "import math\n",
    "def gibbsy(image, beta, eta,runs):\n",
    "    latentImage = np.random.randint(2, size = image.shape)\n",
    "    for n in range(runs):\n",
    "        print(\"PIXEL SIMILARITY: \" + str(pixelPercentage(latentImage, originalImage)))\n",
    "        for i in range(image.shape[0]):\n",
    "            for j in range(image.shape[1]):\n",
    "                latentImage[i][j] = 1\n",
    "                posEnergy = math.exp(calculateEnergy(latentImage, image, i, j, beta, eta))\n",
    "                latentImage[i][j] = -1\n",
    "                negEnergy = math.exp(calculateEnergy(latentImage, image, i, j, beta, eta))\n",
    "                post = posEnergy/(posEnergy + negEnergy)\n",
    "                r = np.random.uniform(0,1)\n",
    "                if post >= r:\n",
    "                    latentImage[i][j] = 1\n",
    "                else:\n",
    "                    latentImage[i][j] = -1\n",
    "    return latentImage\n",
    "                \n",
    "\n",
    "                "
   ]
  },
  {
   "cell_type": "code",
   "execution_count": null,
   "metadata": {},
   "outputs": [],
   "source": [
    "def gibbs(image, beta, eta, runs):\n",
    "    latentImage = np.random.randint(2, size=(image.shape))\n",
    "    latentImage = convertLatent(latentImage)\n",
    "    for n in range(runs):\n",
    "        print(\"PIXEL SIMILARITY: \" + str(pixelPercentage(latentImage, originalImage)))\n",
    "        for i in range(image.shape[0]):\n",
    "            for j in range(image.shape[1]):\n",
    "                bros = neighbours(i, j, latentImage.shape[0], latentImage.shape[1])\n",
    "                latentImage[i][j] = 1\n",
    "                posEnergy = calculateEnergy(latentImage, image, i,j, beta, eta)\n",
    "                for m in bros:\n",
    "                    x, y = m\n",
    "                    posEnergy += calculateEnergy(latentImage, image, x, y, beta, eta)\n",
    "                posEnergy = np.exp(posEnergy)\n",
    "                \n",
    "                latentImage[i][j] = -1\n",
    "                negEnergy = calculateEnergy(latentImage, image, i,j, beta, eta)\n",
    "                for m in bros:\n",
    "                    x, y = m\n",
    "                    negEnergy += calculateEnergy(latentImage, image, x, y, beta, eta)\n",
    "                negEnergy = np.exp(negEnergy)\n",
    "                joint = posEnergy/(posEnergy+negEnergy)\n",
    "                negJoint = negEnergy/(posEnergy+negEnergy)\n",
    "                r = np.random.uniform(0,1)\n",
    "                if joint >= r:\n",
    "                    latentImage[i][j] = 1\n",
    "                else:\n",
    "                    latentImage[i][j] = -1\n",
    "    return latentImage"
   ]
  },
  {
   "cell_type": "code",
   "execution_count": null,
   "metadata": {},
   "outputs": [],
   "source": [
    "# fig = plt.figure(figsize = (20, 20))\n",
    "# ax = fig.add_subplot(131)\n",
    "t2 = time.time()\n",
    "result = gibbsy(im2, 0.6, 1, 5)\n",
    "t3 = time.time()\n",
    "plt.imshow(result,cmap='gray')\n",
    "plt.savefig(\"Gibbs with Gaussian noise pikachu.jpg\")\n",
    "total_amount = t3 - t2\n",
    "print(total_amount)\n",
    "# ax2 = fig.add_subplot(132)\n",
    "# ax2.imshow(im2,cmap='gray')"
   ]
  },
  {
   "cell_type": "code",
   "execution_count": null,
   "metadata": {},
   "outputs": [],
   "source": [
    "# fig = plt.figure(figsize = (20, 20))\n",
    "# ax = fig.add_subplot(131)\n",
    "t4 = time.time()\n",
    "plt.imshow(gibbsy(im3, 0.5, 3, 5), cmap='gray')\n",
    "t5 = time.time()\n",
    "plt.savefig(\"Gibbs with salt n pepper pikachu.jpg\")\n",
    "total_amount = t5 - t4\n",
    "print(total_amount)\n",
    "# ax2 = fig.add_subplot(132)\n",
    "# ax2.imshow(im3,cmap='gray')"
   ]
  },
  {
   "cell_type": "code",
   "execution_count": null,
   "metadata": {},
   "outputs": [],
   "source": [
    "# fig = plt.figure(figsize = (20, 20))\n",
    "# ax = fig.add_subplot(131)\n",
    "t6 = time.time()\n",
    "plt.imshow(gibbs(im2, 0.4, 2, 5),cmap='gray')\n",
    "t7 = time.time()\n",
    "plt.savefig(\"Gibbs with neighbours with Gaussian noise pikachu.jpg\")\n",
    "total_amount = t7 - t6\n",
    "print(total_amount)\n",
    "# ax2 = fig.add_subplot(132)\n",
    "# ax2.imshow(im3,cmap='gray')"
   ]
  },
  {
   "cell_type": "code",
   "execution_count": null,
   "metadata": {},
   "outputs": [],
   "source": [
    "# fig = plt.figure(figsize = (20, 20))\n",
    "# ax = fig.add_subplot(131)\n",
    "t12 = time.time()\n",
    "plt.imshow(gibbs(im3, 0.4, 2, 5),cmap='gray')\n",
    "t13 = time.time()\n",
    "plt.savefig(\"Gibbs with neighbours with salt n pepper pikachu.jpg\")\n",
    "total_amount = t13 - t12\n",
    "print(total_amount)\n",
    "# ax2 = fig.add_subplot(132)\n",
    "# ax2.imshow(im3,cmap='gray')"
   ]
  },
  {
   "cell_type": "code",
   "execution_count": 4,
   "metadata": {},
   "outputs": [],
   "source": [
    "def sigma(val):\n",
    "    \n",
    "    if (1+np.exp(-2*val)) == 0:\n",
    "        print(\"This is zero boy\")\n",
    "    \n",
    "    return 1/(1+np.exp(-2*val))\n",
    "\n",
    "def tanh(val):\n",
    "    if (np.exp(val) + np.exp(val * -1)) == 0:\n",
    "        print(\"This is zero as well\")\n",
    "    return (np.exp(val) - np.exp(val * -1)) / (np.exp(val) + np.exp(val * -1))\n"
   ]
  },
  {
   "cell_type": "code",
   "execution_count": 5,
   "metadata": {},
   "outputs": [],
   "source": [
    "def VB(image, beta, eta, runs, weight):\n",
    "    mu = np.zeros((image.shape[0], image.shape[1]))\n",
    "    \n",
    "    for i in range(image.shape[0]):\n",
    "        for j in range(image.shape[1]):\n",
    "            mu[i][j] = np.random.uniform(-1, 1)\n",
    "            \n",
    "    latentImage = np.random.randint(2, size = image.shape)\n",
    "    pixelPercentages = []\n",
    "    \n",
    "    for k in range(runs):\n",
    "        for i in range(image.shape[0]):\n",
    "            for j in range(image.shape[1]):\n",
    "                bros = neighbours(i, j, latentImage.shape[0], latentImage.shape[1])\n",
    "                \n",
    "                m_val = 0\n",
    "                for x, y in bros:\n",
    "                    m_val += weight * mu[x][y]\n",
    "                \n",
    "                latentImage[i][j] = 1\n",
    "                posEnergy = calculateEnergy(latentImage, image, i,j, beta, eta)\n",
    "#                 for m in bros:\n",
    "#                     x, y = m\n",
    "#                     posEnergy += calculateEnergy(latentImage, image, x, y, beta, eta)\n",
    "                posEnergy = np.exp(posEnergy)\n",
    "                \n",
    "                latentImage[i][j] = -1\n",
    "                negEnergy = calculateEnergy(latentImage, image, i,j, beta, eta)\n",
    "#                 for m in bros:\n",
    "#                     x, y = m\n",
    "#                     negEnergy += calculateEnergy(latentImage, image, x, y, beta, eta)\n",
    "                negEnergy = np.exp(negEnergy)\n",
    "                \n",
    "                \n",
    "                mu_val = tanh(m_val + 0.5 * (posEnergy - negEnergy))\n",
    "                \n",
    "                mu[i][j] = mu_val\n",
    "                \n",
    "                posterior = sigma(m_val + 0.5 * (posEnergy - negEnergy))\n",
    "                \n",
    "                joint = posterior * mu_val\n",
    "                \n",
    "#                 print(posterior)\n",
    "#                 print(joint)\n",
    "                \n",
    "                if posterior > 0.5:\n",
    "                    latentImage[i][j] = 1\n",
    "                else:\n",
    "                    latentImage[i][j] = -1\n",
    "                    \n",
    "        print(\"PIXEL SIMILARITY: \" + str(pixelPercentage(latentImage, originalImage)))\n",
    "    \n",
    "#                 pixelPercentages.append(pixelPercentage(latentImage, originalImage))\n",
    "\n",
    "    return latentImage, np.array(pixelPercentages)"
   ]
  },
  {
   "cell_type": "code",
   "execution_count": 21,
   "metadata": {
    "scrolled": false
   },
   "outputs": [
    {
     "name": "stdout",
     "output_type": "stream",
     "text": [
      "PIXEL SIMILARITY: 0.30096051227321235\n",
      "PIXEL SIMILARITY: 0.3014941302027748\n",
      "PIXEL SIMILARITY: 0.3046958377801494\n",
      "PIXEL SIMILARITY: 0.31163287086446106\n",
      "PIXEL SIMILARITY: 0.31483457844183566\n",
      "1.4511463642120361\n"
     ]
    },
    {
     "data": {
      "text/plain": [
       "<matplotlib.image.AxesImage at 0x2b7505d4c18>"
      ]
     },
     "execution_count": 21,
     "metadata": {},
     "output_type": "execute_result"
    },
    {
     "data": {
      "image/png": "[encoded data removed]",
      "text/plain": [
       "<Figure size 1440x1440 with 2 Axes>"
      ]
     },
     "metadata": {},
     "output_type": "display_data"
    }
   ],
   "source": [
    "fig = plt.figure(figsize = (20, 20))  \n",
    "ax = fig.add_subplot(131)\n",
    "t8 = time.time()\n",
    "result, percentage = VB(im2, 0.3, 0.4, 5, 0.9)\n",
    "t9 = time.time()\n",
    "ax.imshow(result,cmap='gray')\n",
    "total_amount = t9 - t8\n",
    "print(total_amount)\n",
    "ax2 = fig.add_subplot(132)\n",
    "ax2.imshow(im2,cmap='gray')"
   ]
  },
  {
   "cell_type": "code",
   "execution_count": 28,
   "metadata": {},
   "outputs": [
    {
     "data": {
      "image/png": "[encoded data removed]",
      "text/plain": [
       "<Figure size 432x288 with 1 Axes>"
      ]
     },
     "metadata": {},
     "output_type": "display_data"
    }
   ],
   "source": [
    "plotAgraph(percentage, \"VB with Gaussian noise dexter.jpg\")"
   ]
  },
  {
   "cell_type": "code",
   "execution_count": 179,
   "metadata": {},
   "outputs": [
    {
     "name": "stdout",
     "output_type": "stream",
     "text": [
      "PIXEL SIMILARITY: 0.3046958377801494\n",
      "PIXEL SIMILARITY: 0.3046958377801494\n",
      "PIXEL SIMILARITY: 0.3046958377801494\n",
      "PIXEL SIMILARITY: 0.3046958377801494\n",
      "PIXEL SIMILARITY: 0.3046958377801494\n",
      "1.4321744441986084\n"
     ]
    },
    {
     "data": {
      "text/plain": [
       "<matplotlib.image.AxesImage at 0x2058b8d6780>"
      ]
     },
     "execution_count": 179,
     "metadata": {},
     "output_type": "execute_result"
    },
    {
     "data": {
      "image/png": "[encoded data removed]",
      "text/plain": [
       "<Figure size 1440x1440 with 2 Axes>"
      ]
     },
     "metadata": {},
     "output_type": "display_data"
    }
   ],
   "source": [
    "fig = plt.figure(figsize = (20, 20))\n",
    "ax = fig.add_subplot(131)\n",
    "t10 = time.time()\n",
    "result, percentage = VB(im3, 0.2, 0.8, 5, 0)\n",
    "t11 = time.time()\n",
    "ax.imshow(result,cmap='gray')\n",
    "total_amount = t11 - t10\n",
    "print(total_amount)\n",
    "ax2 = fig.add_subplot(132)\n",
    "ax2.imshow(im3,cmap='gray')"
   ]
  },
  {
   "cell_type": "code",
   "execution_count": 67,
   "metadata": {},
   "outputs": [
    {
     "data": {
      "image/png": "[encoded data removed]",
      "text/plain": [
       "<Figure size 432x288 with 1 Axes>"
      ]
     },
     "metadata": {},
     "output_type": "display_data"
    }
   ],
   "source": [
    "plotAgraph(percentage, \"VB with salt n pepper dexter graph.jpg\")"
   ]
  }
 ],
 "metadata": {
  "kernelspec": {
   "display_name": "Python 3",
   "language": "python",
   "name": "python3"
  },
  "language_info": {
   "codemirror_mode": {
    "name": "ipython",
    "version": 3
   },
   "file_extension": ".py",
   "mimetype": "text/x-python",
   "name": "python",
   "nbconvert_exporter": "python",
   "pygments_lexer": "ipython3",
   "version": "3.6.5"
  }
 },
 "nbformat": 4,
 "nbformat_minor": 2
}
