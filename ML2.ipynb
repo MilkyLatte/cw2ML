{
 "cells": [
  {
   "cell_type": "code",
   "execution_count": 2,
   "metadata": {},
   "outputs": [
    {
     "name": "stderr",
     "output_type": "stream",
     "text": [
      "C:\\Users\\DavidShin\\Anaconda3\\lib\\site-packages\\ipykernel_launcher.py:34: DeprecationWarning: `imread` is deprecated!\n",
      "`imread` is deprecated in SciPy 1.0.0, and will be removed in 1.2.0.\n",
      "Use ``imageio.imread`` instead.\n"
     ]
    },
    {
     "data": {
      "text/plain": [
       "<matplotlib.image.AxesImage at 0x1cc56fe7278>"
      ]
     },
     "execution_count": 2,
     "metadata": {},
     "output_type": "execute_result"
    },
    {
     "data": {
      "image/png": "[encoded data removed]",
      "text/plain": [
       "<Figure size 432x288 with 3 Axes>"
      ]
     },
     "metadata": {},
     "output_type": "display_data"
    }
   ],
   "source": [
    "import numpy as np\n",
    "import matplotlib.pyplot as plt\n",
    "from scipy import misc\n",
    "import copy\n",
    "\n",
    "\n",
    "def add_gaussian_noise(im,prop,varSigma):\n",
    "    N = int(np.round(np.prod(im.shape)*prop))\n",
    "    index = np.unravel_index(np.random.permutation(np.prod(im.shape))[1:N],im.shape)\n",
    "    e = varSigma*np.random.randn(np.prod(im.shape)).reshape(im.shape)\n",
    "    im2 = np.copy(im).astype('float')\n",
    "    im2[index] += e[index]\n",
    "    return im2\n",
    "\n",
    "def add_saltnpeppar_noise(im,prop):\n",
    "    N = int(np.round(np.prod(im.shape)*prop))\n",
    "    index = np.unravel_index(np.random.permutation(np.prod(im.shape))[1:N],im.shape)\n",
    "    im2 = np.copy(im)\n",
    "    im2[index] = 1-im2[index]\n",
    "    return im2\n",
    "\n",
    "def binaryImage(image):\n",
    "    cp_image = copy.deepcopy(image)\n",
    "    for x in range(len(cp_image)):\n",
    "        for y in range(len(cp_image[0])):\n",
    "            cp_image[x][y] = round(cp_image[x][y])\n",
    "            if cp_image[x][y] < 0.5:\n",
    "                cp_image[x][y] = -1\n",
    "    return cp_image\n",
    "# proportion of pixels to alter\n",
    "\n",
    "prop = 0.1\n",
    "varSigma = 0.1\n",
    "im = misc.imread('images/dexter.jpg')\n",
    "im = im/255\n",
    "im = binaryImage(im)\n",
    "fig = plt.figure()\n",
    "ax = fig.add_subplot(131)\n",
    "ax.imshow(im,cmap='gray')\n",
    "im2 = add_gaussian_noise(im,prop,varSigma)\n",
    "ax2 = fig.add_subplot(132)\n",
    "ax2.imshow(im2,cmap='gray')\n",
    "im3 = add_saltnpeppar_noise(im,prop)\n",
    "ax3 = fig.add_subplot(133)\n",
    "ax3.imshow(im3,cmap='gray')\n"
   ]
  },
  {
   "cell_type": "code",
   "execution_count": 5,
   "metadata": {},
   "outputs": [],
   "source": [
    "def neighbours(i,j,M,N,size=4):\n",
    "    if size==4:\n",
    "        if (i==0 and j==0):\n",
    "            n=[(0,1), (1,0)]\n",
    "        elif i==0 and j==N-1:\n",
    "            n=[(0,N-2), (1,N-1)]\n",
    "        elif i==M-1 and j==0:\n",
    "            n=[(M-1,1), (M-2,0)]\n",
    "        elif i==M-1 and j==N-1:\n",
    "            n=[(M-1,N-2), (M-2,N-1)]\n",
    "        elif i==0:\n",
    "            n=[(0,j-1), (0,j+1), (1,j)]\n",
    "        elif i==M-1:\n",
    "            n=[(M-1,j-1), (M-1,j+1), (M-2,j)]\n",
    "        elif j==0:\n",
    "            n=[(i-1,0), (i+1,0), (i,1)]\n",
    "        elif j==N-1:\n",
    "            n=[(i-1,N-1), (i+1,N-1), (i,N-2)]\n",
    "        else:\n",
    "            n=[(i-1,j), (i+1,j), (i,j-1), (i,j+1)]\n",
    "        return n\n",
    "    if size==8:\n",
    "        print('Not yet implemented\\n')\n",
    "        return -1"
   ]
  },
  {
   "cell_type": "code",
   "execution_count": 34,
   "metadata": {
    "scrolled": true
   },
   "outputs": [],
   "source": [
    "def calculateEnergy(latent, noisy, i, j, beta, eta):\n",
    "    n = neighbours(i, j, latent.shape[0], latent.shape[1])\n",
    "    energy = eta*(latent[i][j]*noisy[i][j])\n",
    "    for m in n:\n",
    "        x, y = m\n",
    "        energy += beta * latent[x][y] * latent[i][j]\n",
    "    return energy\n",
    "\n",
    "def convertLatent(latent):\n",
    "    for i in range(latent.shape[0]):\n",
    "        for j in range(latent.shape[1]):\n",
    "            if latent[i][j] == 0:\n",
    "                latent[i][j] = -1\n",
    "    return latent\n",
    "    \n",
    "def ICM(image, beta, eta, runs):\n",
    "    latentImage = copy.deepcopy(image)\n",
    "    latentImage = convertLatent(latentImage)\n",
    "    for n in range(runs):\n",
    "        print(\"PIXEL SIMILARITY: \" + str(pixelPercentage(latentImage, originalImage)))\n",
    "        for i in range(image.shape[0]):\n",
    "            for j in range(image.shape[1]):\n",
    "                bros = neighbours(i, j, latentImage.shape[0], latentImage.shape[1])\n",
    "                latentImage[i][j] = 1\n",
    "                posEnergy = calculateEnergy(latentImage, image, i,j, beta, eta)\n",
    "                for m in bros:\n",
    "                    x, y = m\n",
    "                    posEnergy += calculateEnergy(latentImage, image, x, y, beta, eta)\n",
    "                latentImage[i][j] = -1\n",
    "                negEnergy = calculateEnergy(latentImage, image, i,j, beta, eta)\n",
    "                for m in bros:\n",
    "                    x, y = m\n",
    "                    negEnergy += calculateEnergy(latentImage, image, x, y, beta, eta)\n",
    "                if posEnergy > negEnergy:\n",
    "                    latentImage[i][j] = 1\n",
    "                else:\n",
    "                    latentImage[i][j] = -1\n",
    "    return latentImage"
   ]
  },
  {
   "cell_type": "code",
   "execution_count": 35,
   "metadata": {},
   "outputs": [
    {
     "name": "stdout",
     "output_type": "stream",
     "text": [
      "PIXEL SIMILARITY: 0.9018143009605123\n",
      "PIXEL SIMILARITY: 0.8708644610458911\n"
     ]
    },
    {
     "data": {
      "text/plain": [
       "<matplotlib.image.AxesImage at 0x1cc58e1e240>"
      ]
     },
     "execution_count": 35,
     "metadata": {},
     "output_type": "execute_result"
    },
    {
     "data": {
      "image/png": "[encoded data removed]",
      "text/plain": [
       "<Figure size 432x288 with 2 Axes>"
      ]
     },
     "metadata": {},
     "output_type": "display_data"
    }
   ],
   "source": [
    "fig = plt.figure()\n",
    "ax = fig.add_subplot(131)\n",
    "ax.imshow(ICM(im3, 1, 5, 2),cmap='gray')\n",
    "ax2 = fig.add_subplot(132)\n",
    "ax2.imshow(im3,cmap='gray')"
   ]
  },
  {
   "cell_type": "code",
   "execution_count": 10,
   "metadata": {},
   "outputs": [
    {
     "data": {
      "text/plain": [
       "<matplotlib.image.AxesImage at 0x1cc57381160>"
      ]
     },
     "execution_count": 10,
     "metadata": {},
     "output_type": "execute_result"
    },
    {
     "data": {
      "image/png": "[encoded data removed]",
      "text/plain": [
       "<Figure size 432x288 with 2 Axes>"
      ]
     },
     "metadata": {},
     "output_type": "display_data"
    }
   ],
   "source": [
    "fig = plt.figure()\n",
    "ax = fig.add_subplot(131)\n",
    "ax.imshow(ICM(im2, 0, 1, 1),cmap='gray')\n",
    "ax2 = fig.add_subplot(132)\n",
    "ax2.imshow(im2,cmap='gray')"
   ]
  },
  {
   "cell_type": "code",
   "execution_count": 14,
   "metadata": {},
   "outputs": [],
   "source": [
    "originalImage = convertLatent(im)\n",
    "def totalBlack(image):\n",
    "    black = 0\n",
    "    for i in range(image.shape[0]):\n",
    "            for j in range(image.shape[1]):\n",
    "                if image[i][j] == -1:\n",
    "                    black += 1\n",
    "    return black\n",
    "def pixelPercentage(latent, real):    \n",
    "    counter = 0\n",
    "    totalPix = totalBlack(real)\n",
    "    for i in range(latent.shape[0]):\n",
    "        for j in range(latent.shape[1]):\n",
    "            if latent[i][j] == -1 and real[i][j] == -1:\n",
    "                counter += 1\n",
    "    return counter/totalPix\n",
    "    "
   ]
  },
  {
   "cell_type": "code",
   "execution_count": 13,
   "metadata": {},
   "outputs": [],
   "source": [
    "import math\n",
    "def gibbsy(image, beta, eta,runs):\n",
    "    latentImage = copy.deepcopy(image)\n",
    "    for n in range(runs):\n",
    "        print(\"PIXEL SIMILARITY: \" + str(pixelPercentage(latentImage, originalImage)))\n",
    "        for i in range(image.shape[0]):\n",
    "            for j in range(image.shape[1]):\n",
    "                latentImage[i][j] = 1\n",
    "                posEnergy = math.exp(calculateEnergy(latentImage, image, i, j, beta, eta))\n",
    "                latentImage[i][j] = -1\n",
    "                negEnergy = math.exp(calculateEnergy(latentImage, image, i, j, beta, eta))\n",
    "                post = posEnergy/(posEnergy + negEnergy)\n",
    "                r = np.random.uniform(0,1)\n",
    "                if post >= r:\n",
    "                    latentImage[i][j] = 1\n",
    "                else:\n",
    "                    latentImage[i][j] = -1\n",
    "    return latentImage\n",
    "                \n",
    "\n",
    "                "
   ]
  },
  {
   "cell_type": "code",
   "execution_count": 17,
   "metadata": {},
   "outputs": [],
   "source": [
    "def gibbs(image, beta, eta, runs):\n",
    "    latentImage = np.random.randint(2, size=(image.shape))\n",
    "    latentImage = convertLatent(latentImage)\n",
    "    for n in range(runs):\n",
    "        print(\"PIXEL SIMILARITY: \" + str(pixelPercentage(latentImage, originalImage)))\n",
    "        for i in range(image.shape[0]):\n",
    "            for j in range(image.shape[1]):\n",
    "                bros = neighbours(i, j, latentImage.shape[0], latentImage.shape[1])\n",
    "                latentImage[i][j] = 1\n",
    "                posEnergy = calculateEnergy(latentImage, image, i,j, beta, eta)\n",
    "                for m in bros:\n",
    "                    x, y = m\n",
    "                    posEnergy += calculateEnergy(latentImage, image, x, y, beta, eta)\n",
    "                posEnergy = np.exp(posEnergy)\n",
    "                \n",
    "                latentImage[i][j] = -1\n",
    "                negEnergy = calculateEnergy(latentImage, image, i,j, beta, eta)\n",
    "                for m in bros:\n",
    "                    x, y = m\n",
    "                    negEnergy += calculateEnergy(latentImage, image, x, y, beta, eta)\n",
    "                negEnergy = np.exp(negEnergy)\n",
    "                joint = posEnergy/(posEnergy+negEnergy)\n",
    "                negJoint = negEnergy/(posEnergy+negEnergy)\n",
    "                r = np.random.uniform(0,1)\n",
    "                if joint >= r:\n",
    "                    latentImage[i][j] = 1\n",
    "                else:\n",
    "                    latentImage[i][j] = -1\n",
    "    return latentImage"
   ]
  },
  {
   "cell_type": "code",
   "execution_count": 18,
   "metadata": {},
   "outputs": [
    {
     "name": "stdout",
     "output_type": "stream",
     "text": [
      "PIXEL SIMILARITY: 0.9055496264674493\n",
      "PIXEL SIMILARITY: 0.959445037353255\n",
      "PIXEL SIMILARITY: 0.9423692636072573\n",
      "PIXEL SIMILARITY: 0.9503735325506937\n",
      "PIXEL SIMILARITY: 0.9525080042689434\n",
      "PIXEL SIMILARITY: 0.9589114194236926\n",
      "PIXEL SIMILARITY: 0.9471718249733191\n",
      "PIXEL SIMILARITY: 0.9546424759871932\n",
      "PIXEL SIMILARITY: 0.9450373532550693\n",
      "PIXEL SIMILARITY: 0.9487726787620064\n"
     ]
    },
    {
     "data": {
      "text/plain": [
       "<matplotlib.image.AxesImage at 0x1cc5750f710>"
      ]
     },
     "execution_count": 18,
     "metadata": {},
     "output_type": "execute_result"
    },
    {
     "data": {
      "image/png": "[encoded data removed]",
      "text/plain": [
       "<Figure size 432x288 with 2 Axes>"
      ]
     },
     "metadata": {},
     "output_type": "display_data"
    }
   ],
   "source": [
    "fig = plt.figure()\n",
    "ax = fig.add_subplot(131)\n",
    "ax.imshow(gibbsy(im2, 0.5, 1, 10),cmap='gray')\n",
    "ax2 = fig.add_subplot(132)\n",
    "ax2.imshow(im2,cmap='gray')"
   ]
  },
  {
   "cell_type": "code",
   "execution_count": 32,
   "metadata": {},
   "outputs": [
    {
     "name": "stdout",
     "output_type": "stream",
     "text": [
      "PIXEL SIMILARITY: 0.9018143009605123\n",
      "PIXEL SIMILARITY: 0.8991462113127001\n"
     ]
    },
    {
     "data": {
      "text/plain": [
       "<matplotlib.image.AxesImage at 0x1cc58cf5278>"
      ]
     },
     "execution_count": 32,
     "metadata": {},
     "output_type": "execute_result"
    },
    {
     "data": {
      "image/png": "[encoded data removed]",
      "text/plain": [
       "<Figure size 432x288 with 2 Axes>"
      ]
     },
     "metadata": {},
     "output_type": "display_data"
    }
   ],
   "source": [
    "fig = plt.figure()\n",
    "ax = fig.add_subplot(131)\n",
    "ax.imshow(gibbsy(im3, 1, 5, 2),cmap='gray')\n",
    "ax2 = fig.add_subplot(132)\n",
    "ax2.imshow(im3,cmap='gray')"
   ]
  },
  {
   "cell_type": "code",
   "execution_count": 39,
   "metadata": {},
   "outputs": [
    {
     "name": "stdout",
     "output_type": "stream",
     "text": [
      "PIXEL SIMILARITY: 0.5005336179295624\n",
      "PIXEL SIMILARITY: 0.8665955176093917\n"
     ]
    },
    {
     "data": {
      "text/plain": [
       "<matplotlib.image.AxesImage at 0x1cc59074160>"
      ]
     },
     "execution_count": 39,
     "metadata": {},
     "output_type": "execute_result"
    },
    {
     "data": {
      "image/png": "[encoded data removed]",
      "text/plain": [
       "<Figure size 432x288 with 2 Axes>"
      ]
     },
     "metadata": {},
     "output_type": "display_data"
    }
   ],
   "source": [
    "fig = plt.figure()\n",
    "ax = fig.add_subplot(131)\n",
    "ax.imshow(gibbs(im3, 1, 5, 2),cmap='gray')\n",
    "ax2 = fig.add_subplot(132)\n",
    "ax2.imshow(im3,cmap='gray')"
   ]
  },
  {
   "cell_type": "code",
   "execution_count": 73,
   "metadata": {},
   "outputs": [],
   "source": [
    "def sigma(val):\n",
    "    \n",
    "    if (1+np.exp(-2*val)) == 0:\n",
    "        print(\"This is zero boy\")\n",
    "    \n",
    "    return 1/(1+np.exp(-2*val))\n",
    "\n",
    "def tanh(val):\n",
    "    if (np.exp(val) + np.exp(val * -1)) == 0:\n",
    "        print(\"This is zero as well\")\n",
    "    return (np.exp(val) - np.exp(val * -1)) / (np.exp(val) + np.exp(val * -1))\n"
   ]
  },
  {
   "cell_type": "code",
   "execution_count": 76,
   "metadata": {},
   "outputs": [],
   "source": [
    "def VB(image, beta, eta, runs, weight):\n",
    "    mu = np.zeros((image.shape[0], image.shape[1]))\n",
    "    \n",
    "    for i in range(image.shape[0]):\n",
    "        for j in range(image.shape[1]):\n",
    "            mu[i][j] = np.random.uniform(-1, 1)\n",
    "            \n",
    "    latentImage = copy.deepcopy(image)\n",
    "    \n",
    "    for k in range(runs):\n",
    "        print(\"PIXEL SIMILARITY: \" + str(pixelPercentage(latentImage, originalImage)))\n",
    "        for i in range(image.shape[0]):\n",
    "            for j in range(image.shape[1]):\n",
    "                bros = neighbours(i, j, latentImage.shape[0], latentImage.shape[1])\n",
    "                \n",
    "                m_val = 0\n",
    "                for x, y in bros:\n",
    "                    m_val += weight * mu[x][y]\n",
    "                \n",
    "                latentImage[i][j] = 1\n",
    "                posEnergy = calculateEnergy(latentImage, image, i,j, beta, eta)\n",
    "#                 for m in bros:\n",
    "#                     x, y = m\n",
    "#                     posEnergy += calculateEnergy(latentImage, image, x, y, beta, eta)\n",
    "                posEnergy = np.exp(posEnergy)\n",
    "                \n",
    "                latentImage[i][j] = -1\n",
    "                negEnergy = calculateEnergy(latentImage, image, i,j, beta, eta)\n",
    "#                 for m in bros:\n",
    "#                     x, y = m\n",
    "#                     negEnergy += calculateEnergy(latentImage, image, x, y, beta, eta)\n",
    "                negEnergy = np.exp(negEnergy)\n",
    "                \n",
    "                \n",
    "                mu_val = tanh(m_val + 0.5 * (posEnergy - negEnergy))\n",
    "                \n",
    "                mu[i][j] = mu_val\n",
    "                \n",
    "                posterior = sigma(m_val + 0.5 * (posEnergy - negEnergy))\n",
    "                \n",
    "                joint = posterior * mu_val\n",
    "                \n",
    "#                 print(posterior)\n",
    "#                 print(joint)\n",
    "                \n",
    "                if posterior > 0.5:\n",
    "                    latentImage[i][j] = 1\n",
    "                else:\n",
    "                    latentImage[i][j] = -1\n",
    "                    \n",
    "    return latentImage"
   ]
  },
  {
   "cell_type": "code",
   "execution_count": 141,
   "metadata": {
    "scrolled": false
   },
   "outputs": [
    {
     "name": "stdout",
     "output_type": "stream",
     "text": [
      "PIXEL SIMILARITY: 0.9018143009605123\n",
      "PIXEL SIMILARITY: 0.9018143009605123\n",
      "PIXEL SIMILARITY: 0.9018143009605123\n",
      "PIXEL SIMILARITY: 0.9018143009605123\n",
      "PIXEL SIMILARITY: 0.9018143009605123\n",
      "PIXEL SIMILARITY: 0.9018143009605123\n",
      "PIXEL SIMILARITY: 0.9018143009605123\n",
      "PIXEL SIMILARITY: 0.9018143009605123\n",
      "PIXEL SIMILARITY: 0.9018143009605123\n",
      "PIXEL SIMILARITY: 0.9018143009605123\n"
     ]
    },
    {
     "data": {
      "text/plain": [
       "<matplotlib.image.AxesImage at 0x1cc5fbfb128>"
      ]
     },
     "execution_count": 141,
     "metadata": {},
     "output_type": "execute_result"
    },
    {
     "data": {
      "image/png": "[encoded data removed]",
      "text/plain": [
       "<Figure size 432x288 with 2 Axes>"
      ]
     },
     "metadata": {},
     "output_type": "display_data"
    }
   ],
   "source": [
    "fig = plt.figure()\n",
    "ax = fig.add_subplot(131)\n",
    "ax.imshow(VB(im3, 0, 1, 10, 0.1),cmap='gray')\n",
    "ax2 = fig.add_subplot(132)\n",
    "ax2.imshow(im3,cmap='gray')"
   ]
  }
 ],
 "metadata": {
  "kernelspec": {
   "display_name": "Python 3",
   "language": "python",
   "name": "python3"
  },
  "language_info": {
   "codemirror_mode": {
    "name": "ipython",
    "version": 3
   },
   "file_extension": ".py",
   "mimetype": "text/x-python",
   "name": "python",
   "nbconvert_exporter": "python",
   "pygments_lexer": "ipython3",
   "version": "3.6.5"
  }
 },
 "nbformat": 4,
 "nbformat_minor": 2
}
