{
 "cells": [
  {
   "cell_type": "code",
   "execution_count": 639,
   "metadata": {},
   "outputs": [
    {
     "name": "stderr",
     "output_type": "stream",
     "text": [
      "/home/juan/.local/lib/python3.7/site-packages/ipykernel_launcher.py:32: DeprecationWarning: `imread` is deprecated!\n",
      "`imread` is deprecated in SciPy 1.0.0, and will be removed in 1.2.0.\n",
      "Use ``imageio.imread`` instead.\n"
     ]
    },
    {
     "name": "stdout",
     "output_type": "stream",
     "text": [
      "[[1. 1. 1. ... 1. 1. 1.]\n",
      " [1. 1. 1. ... 1. 1. 1.]\n",
      " [1. 1. 1. ... 1. 1. 1.]\n",
      " ...\n",
      " [1. 1. 1. ... 1. 1. 1.]\n",
      " [1. 1. 1. ... 1. 1. 1.]\n",
      " [1. 1. 1. ... 1. 1. 1.]]\n"
     ]
    },
    {
     "data": {
      "image/png": "[encoded data removed]",
      "text/plain": [
       "<Figure size 432x288 with 3 Axes>"
      ]
     },
     "metadata": {
      "needs_background": "light"
     },
     "output_type": "display_data"
    }
   ],
   "source": [
    "import numpy as np\n",
    "import matplotlib.pyplot as plt\n",
    "from scipy import misc\n",
    "import copy\n",
    "\n",
    "\n",
    "def add_gaussian_noise(im,prop,varSigma):\n",
    "    N = int(np.round(np.prod(im.shape)*prop))\n",
    "    index = np.unravel_index(np.random.permutation(np.prod(im.shape))[1:N],im.shape)\n",
    "    e = varSigma*np.random.randn(np.prod(im.shape)).reshape(im.shape)\n",
    "    im2 = np.copy(im).astype('float')\n",
    "    im2[index] += e[index]\n",
    "    return im2\n",
    "\n",
    "def add_saltnpeppar_noise(im,prop):\n",
    "    N = int(np.round(np.prod(im.shape)*prop))\n",
    "    index = np.unravel_index(np.random.permutation(np.prod(im.shape))[1:N],im.shape)\n",
    "    im2 = np.copy(im)\n",
    "    im2[index] = 1-im2[index]\n",
    "    return im2\n",
    "\n",
    "def binaryImage(image):\n",
    "    cp_image = copy.deepcopy(image)\n",
    "    for x in range(len(cp_image)):\n",
    "        for y in range(len(cp_image[0])):\n",
    "            cp_image[x][y] = round(cp_image[x][y])\n",
    "    return cp_image\n",
    "# proportion of pixels to alter\n",
    "\n",
    "prop = 0.01\n",
    "varSigma = 0.1\n",
    "im = misc.imread('images/dexter.jpg')\n",
    "im = im/255\n",
    "im = binaryImage(im)\n",
    "fig = plt.figure()\n",
    "ax = fig.add_subplot(131)\n",
    "ax.imshow(im,cmap='gray')\n",
    "im2 = add_gaussian_noise(im,prop,varSigma)\n",
    "ax2 = fig.add_subplot(132)\n",
    "ax2.imshow(im2,cmap='gray')\n",
    "im3 = add_saltnpeppar_noise(im,prop)\n",
    "ax3 = fig.add_subplot(133)\n",
    "ax3.imshow(im3,cmap='gray')\n",
    "print(im)"
   ]
  },
  {
   "cell_type": "code",
   "execution_count": 437,
   "metadata": {},
   "outputs": [],
   "source": [
    "def neighbours(i,j,M,N,size=4):\n",
    "    if size==4:\n",
    "        if (i==0 and j==0):\n",
    "            n=[(0,1), (1,0)]\n",
    "        elif i==0 and j==N-1:\n",
    "            n=[(0,N-2), (1,N-1)]\n",
    "        elif i==M-1 and j==0:\n",
    "            n=[(M-1,1), (M-2,0)]\n",
    "        elif i==M-1 and j==N-1:\n",
    "            n=[(M-1,N-2), (M-2,N-1)]\n",
    "        elif i==0:\n",
    "            n=[(0,j-1), (0,j+1), (1,j)]\n",
    "        elif i==M-1:\n",
    "            n=[(M-1,j-1), (M-1,j+1), (M-2,j)]\n",
    "        elif j==0:\n",
    "            n=[(i-1,0), (i+1,0), (i,1)]\n",
    "        elif j==N-1:\n",
    "            n=[(i-1,N-1), (i+1,N-1), (i,N-2)]\n",
    "        else:\n",
    "            n=[(i-1,j), (i+1,j), (i,j-1), (i,j+1)]\n",
    "        return n\n",
    "    if size==8:\n",
    "        print('Not yet implemented\\n')\n",
    "        return -1"
   ]
  },
  {
   "cell_type": "code",
   "execution_count": 569,
   "metadata": {
    "scrolled": true
   },
   "outputs": [],
   "source": [
    "def calculateEnergy(latent, noisy, i, j, beta, eta):\n",
    "    n = neighbours(i, j, latent.shape[0], latent.shape[1])\n",
    "    energy = eta*(latent[i][j]*noisy[i][j])\n",
    "    for m in n:\n",
    "        x, y = m\n",
    "        energy += beta * latent[x][y] * latent[i][j]\n",
    "    return energy\n",
    "\n",
    "def convertLatent(latent):\n",
    "    for i in range(latent.shape[0]):\n",
    "        for j in range(latent.shape[1]):\n",
    "            if latent[i][j] == 0:\n",
    "                latent[i][j] = -1\n",
    "    return latent\n",
    "    \n",
    "def ICM(image, beta, eta, runs):\n",
    "    latentImage = copy.deepcopy(image)\n",
    "    latentImage = convertLatent(latentImage)\n",
    "    for n in range(runs):\n",
    "        for i in range(image.shape[0]):\n",
    "            for j in range(image.shape[1]):\n",
    "                bros = neighbours(i, j, latentImage.shape[0], latentImage.shape[1])\n",
    "                latentImage[i][j] = 1\n",
    "                posEnergy = calculateEnergy(latentImage, image, i,j, beta, eta)\n",
    "                for m in bros:\n",
    "                    x, y = m\n",
    "                    posEnergy += calculateEnergy(latentImage, image, x, y, beta, eta)\n",
    "                latentImage[i][j] = -1\n",
    "                negEnergy = calculateEnergy(latentImage, image, i,j, beta, eta)\n",
    "                for m in bros:\n",
    "                    x, y = m\n",
    "                    negEnergy += calculateEnergy(latentImage, image, x, y, beta, eta)\n",
    "                if posEnergy > negEnergy:\n",
    "                    latentImage[i][j] = 1\n",
    "                else:\n",
    "                    latentImage[i][j] = -1\n",
    "    return latentImage"
   ]
  },
  {
   "cell_type": "code",
   "execution_count": 600,
   "metadata": {},
   "outputs": [
    {
     "data": {
      "text/plain": [
       "<matplotlib.image.AxesImage at 0x7fcad50b09b0>"
      ]
     },
     "execution_count": 600,
     "metadata": {},
     "output_type": "execute_result"
    },
    {
     "data": {
      "image/png": "[encoded data removed]",
      "text/plain": [
       "<Figure size 432x288 with 2 Axes>"
      ]
     },
     "metadata": {
      "needs_background": "light"
     },
     "output_type": "display_data"
    }
   ],
   "source": [
    "fig = plt.figure()\n",
    "ax = fig.add_subplot(131)\n",
    "ax.imshow(ICM(im3, 0.4, 1, 5),cmap='gray')\n",
    "ax2 = fig.add_subplot(132)\n",
    "ax2.imshow(im3,cmap='gray')"
   ]
  },
  {
   "cell_type": "code",
   "execution_count": 601,
   "metadata": {},
   "outputs": [
    {
     "data": {
      "text/plain": [
       "<matplotlib.image.AxesImage at 0x7fcad4fcb470>"
      ]
     },
     "execution_count": 601,
     "metadata": {},
     "output_type": "execute_result"
    },
    {
     "data": {
      "image/png": "[encoded data removed]",
      "text/plain": [
       "<Figure size 432x288 with 2 Axes>"
      ]
     },
     "metadata": {
      "needs_background": "light"
     },
     "output_type": "display_data"
    }
   ],
   "source": [
    "fig = plt.figure()\n",
    "ax = fig.add_subplot(131)\n",
    "ax.imshow(ICM(im2, 0, 1, 5),cmap='gray')\n",
    "ax2 = fig.add_subplot(132)\n",
    "ax2.imshow(im2,cmap='gray')"
   ]
  },
  {
   "cell_type": "code",
   "execution_count": 547,
   "metadata": {},
   "outputs": [],
   "source": [
    "def gibbs(image, beta, eta, runs):\n",
    "    latentImage = copy.deepcopy(image)\n",
    "    latentImage = convertLatent(latentImage)\n",
    "    for n in range(runs):\n",
    "        for i in range(image.shape[0]):\n",
    "            for j in range(image.shape[1]):\n",
    "                latentImage[i][j] = 1\n",
    "                posEnergy = np.exp(-calculateEnergy(latentImage, image, i, j, beta, eta))\n",
    "                latentImage[i][j] = -1\n",
    "                negEnergy = np.exp(-calculateEnergy(latentImage, image, i, j, beta, eta))\n",
    "                joint = posEnergy/(posEnergy+negEnergy)\n",
    "                r = np.random.uniform(0,1)\n",
    "                if joint < r:\n",
    "                    latentImage[i][j] = 1\n",
    "                else:\n",
    "                    latentImage[i][j] = -1\n",
    "    return latentImage"
   ]
  },
  {
   "cell_type": "code",
   "execution_count": 648,
   "metadata": {},
   "outputs": [
    {
     "data": {
      "text/plain": [
       "<matplotlib.image.AxesImage at 0x7fcad339fc88>"
      ]
     },
     "execution_count": 648,
     "metadata": {},
     "output_type": "execute_result"
    },
    {
     "data": {
      "image/png": "[encoded data removed]",
      "text/plain": [
       "<Figure size 432x288 with 2 Axes>"
      ]
     },
     "metadata": {
      "needs_background": "light"
     },
     "output_type": "display_data"
    }
   ],
   "source": [
    "fig = plt.figure()\n",
    "ax = fig.add_subplot(131)\n",
    "ax.imshow(gibbs(im3, 1, 1, 20),cmap='gray')\n",
    "ax2 = fig.add_subplot(132)\n",
    "ax2.imshow(im3,cmap='gray')"
   ]
  }
 ],
 "metadata": {
  "kernelspec": {
   "display_name": "Python 3",
   "language": "python",
   "name": "python3"
  },
  "language_info": {
   "codemirror_mode": {
    "name": "ipython",
    "version": 3
   },
   "file_extension": ".py",
   "mimetype": "text/x-python",
   "name": "python",
   "nbconvert_exporter": "python",
   "pygments_lexer": "ipython3",
   "version": "3.7.0"
  }
 },
 "nbformat": 4,
 "nbformat_minor": 2
}
