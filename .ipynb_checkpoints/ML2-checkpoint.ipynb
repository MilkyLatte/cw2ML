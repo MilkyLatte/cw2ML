{
 "cells": [
  {
   "cell_type": "code",
   "execution_count": 25,
   "metadata": {},
   "outputs": [
    {
     "name": "stderr",
     "output_type": "stream",
     "text": [
      "/home/juan/.local/lib/python3.7/site-packages/ipykernel_launcher.py:34: DeprecationWarning: `imread` is deprecated!\n",
      "`imread` is deprecated in SciPy 1.0.0, and will be removed in 1.2.0.\n",
      "Use ``imageio.imread`` instead.\n"
     ]
    },
    {
     "data": {
      "text/plain": [
       "<matplotlib.image.AxesImage at 0x7f03e2451470>"
      ]
     },
     "execution_count": 25,
     "metadata": {},
     "output_type": "execute_result"
    },
    {
     "data": {
      "image/png": "[encoded data removed]",
      "text/plain": [
       "<Figure size 432x288 with 3 Axes>"
      ]
     },
     "metadata": {
      "needs_background": "light"
     },
     "output_type": "display_data"
    }
   ],
   "source": [
    "import numpy as np\n",
    "import matplotlib.pyplot as plt\n",
    "from scipy import misc\n",
    "import copy\n",
    "\n",
    "\n",
    "def add_gaussian_noise(im,prop,varSigma):\n",
    "    N = int(np.round(np.prod(im.shape)*prop))\n",
    "    index = np.unravel_index(np.random.permutation(np.prod(im.shape))[1:N],im.shape)\n",
    "    e = varSigma*np.random.randn(np.prod(im.shape)).reshape(im.shape)\n",
    "    im2 = np.copy(im).astype('float')\n",
    "    im2[index] += e[index]\n",
    "    return im2\n",
    "\n",
    "def add_saltnpeppar_noise(im,prop):\n",
    "    N = int(np.round(np.prod(im.shape)*prop))\n",
    "    index = np.unravel_index(np.random.permutation(np.prod(im.shape))[1:N],im.shape)\n",
    "    im2 = np.copy(im)\n",
    "    im2[index] = 1-im2[index]\n",
    "    return im2\n",
    "\n",
    "def binaryImage(image):\n",
    "    cp_image = copy.deepcopy(image)\n",
    "    for x in range(len(cp_image)):\n",
    "        for y in range(len(cp_image[0])):\n",
    "            cp_image[x][y] = round(cp_image[x][y])\n",
    "            if cp_image[x][y] < 0.5:\n",
    "                cp_image[x][y] = -1\n",
    "    return cp_image\n",
    "# proportion of pixels to alter\n",
    "\n",
    "prop = 0.1\n",
    "varSigma = 1\n",
    "im = misc.imread('images/dexter.jpg')\n",
    "im = im/255\n",
    "im = binaryImage(im)\n",
    "fig = plt.figure()\n",
    "ax = fig.add_subplot(131)\n",
    "ax.imshow(im,cmap='gray')\n",
    "im2 = add_gaussian_noise(im,prop,varSigma)\n",
    "ax2 = fig.add_subplot(132)\n",
    "ax2.imshow(im2,cmap='gray')\n",
    "im3 = add_saltnpeppar_noise(im,prop)\n",
    "ax3 = fig.add_subplot(133)\n",
    "ax3.imshow(im3,cmap='gray')\n"
   ]
  },
  {
   "cell_type": "code",
   "execution_count": 4,
   "metadata": {},
   "outputs": [],
   "source": [
    "def neighbours(i,j,M,N,size=4):\n",
    "    if size==4:\n",
    "        if (i==0 and j==0):\n",
    "            n=[(0,1), (1,0)]\n",
    "        elif i==0 and j==N-1:\n",
    "            n=[(0,N-2), (1,N-1)]\n",
    "        elif i==M-1 and j==0:\n",
    "            n=[(M-1,1), (M-2,0)]\n",
    "        elif i==M-1 and j==N-1:\n",
    "            n=[(M-1,N-2), (M-2,N-1)]\n",
    "        elif i==0:\n",
    "            n=[(0,j-1), (0,j+1), (1,j)]\n",
    "        elif i==M-1:\n",
    "            n=[(M-1,j-1), (M-1,j+1), (M-2,j)]\n",
    "        elif j==0:\n",
    "            n=[(i-1,0), (i+1,0), (i,1)]\n",
    "        elif j==N-1:\n",
    "            n=[(i-1,N-1), (i+1,N-1), (i,N-2)]\n",
    "        else:\n",
    "            n=[(i-1,j), (i+1,j), (i,j-1), (i,j+1)]\n",
    "        return n\n",
    "    if size==8:\n",
    "        print('Not yet implemented\\n')\n",
    "        return -1"
   ]
  },
  {
   "cell_type": "code",
   "execution_count": 5,
   "metadata": {
    "scrolled": true
   },
   "outputs": [],
   "source": [
    "def calculateEnergy(latent, noisy, i, j, beta, eta):\n",
    "    n = neighbours(i, j, latent.shape[0], latent.shape[1])\n",
    "    energy = eta*(latent[i][j]*noisy[i][j])\n",
    "    for m in n:\n",
    "        x, y = m\n",
    "        energy += (beta * latent[x][y] * latent[i][j])\n",
    "    return energy\n",
    "\n",
    "def convertLatent(latent):\n",
    "    for i in range(latent.shape[0]):\n",
    "        for j in range(latent.shape[1]):\n",
    "            if latent[i][j] == 0:\n",
    "                latent[i][j] = -1\n",
    "    return latent\n",
    "    \n",
    "def ICM(image, beta, eta, runs):\n",
    "    latentImage = copy.deepcopy(image)\n",
    "    #latentImage = convertLatent(latentImage)\n",
    "    for n in range(runs):\n",
    "        for i in range(image.shape[0]):\n",
    "            for j in range(image.shape[1]):\n",
    "                bros = neighbours(i, j, latentImage.shape[0], latentImage.shape[1])\n",
    "                latentImage[i][j] = 1\n",
    "                posEnergy = calculateEnergy(latentImage, image, i,j, beta, eta)\n",
    "                for m in bros:\n",
    "                    x, y = m\n",
    "                    posEnergy += calculateEnergy(latentImage, image, x, y, beta, eta)\n",
    "                latentImage[i][j] = -1\n",
    "                negEnergy = calculateEnergy(latentImage, image, i,j, beta, eta)\n",
    "                for m in bros:\n",
    "                    x, y = m\n",
    "                    negEnergy += calculateEnergy(latentImage, image, x, y, beta, eta)\n",
    "                if posEnergy > negEnergy:\n",
    "                    latentImage[i][j] = 1\n",
    "                else:\n",
    "                    latentImage[i][j] = -1\n",
    "    return latentImage"
   ]
  },
  {
   "cell_type": "code",
   "execution_count": 35,
   "metadata": {},
   "outputs": [
    {
     "data": {
      "text/plain": [
       "<matplotlib.image.AxesImage at 0x7f03e1e49f60>"
      ]
     },
     "execution_count": 35,
     "metadata": {},
     "output_type": "execute_result"
    },
    {
     "data": {
      "image/png": "[encoded data removed]",
      "text/plain": [
       "<Figure size 432x288 with 2 Axes>"
      ]
     },
     "metadata": {
      "needs_background": "light"
     },
     "output_type": "display_data"
    }
   ],
   "source": [
    "fig = plt.figure()\n",
    "ax = fig.add_subplot(131)\n",
    "ax.imshow(ICM(im3, 0.25, 1, 10),cmap='gray')\n",
    "ax2 = fig.add_subplot(132)\n",
    "ax2.imshow(im3,cmap='gray')"
   ]
  },
  {
   "cell_type": "code",
   "execution_count": 28,
   "metadata": {},
   "outputs": [
    {
     "data": {
      "text/plain": [
       "<matplotlib.image.AxesImage at 0x7f03e22264e0>"
      ]
     },
     "execution_count": 28,
     "metadata": {},
     "output_type": "execute_result"
    },
    {
     "data": {
      "image/png": "[encoded data removed]",
      "text/plain": [
       "<Figure size 432x288 with 2 Axes>"
      ]
     },
     "metadata": {
      "needs_background": "light"
     },
     "output_type": "display_data"
    }
   ],
   "source": [
    "fig = plt.figure()\n",
    "ax = fig.add_subplot(131)\n",
    "ax.imshow(ICM(im2, 0.1, 1, 1),cmap='gray')\n",
    "ax2 = fig.add_subplot(132)\n",
    "ax2.imshow(im2,cmap='gray')"
   ]
  },
  {
   "cell_type": "code",
   "execution_count": 8,
   "metadata": {},
   "outputs": [],
   "source": [
    "def likelihood(latent, noisy, x, y, eta):\n",
    "    bros = neighbours(x, y, latent.shape[0], latent.shape[1])\n",
    "    likelihood = eta*latent[x][y]*noisy[x][y]\n",
    "#     for m in bros:\n",
    "#         i, j = m\n",
    "#         likelihood = likelihood * np.exp(eta*latent[i][j]*noisy[i][j])\n",
    "    return likelihood\n",
    "\n",
    "def prior(latent, x, y, beta):\n",
    "    prior = 0\n",
    "    first = neighbours(x, y, latent.shape[0], latent.shape[1])\n",
    "    for i, j in first:\n",
    "#         second = neighbours(i, j, latent.shape[0], latent.shape[1])\n",
    "        prior += beta*latent[x][y]*latent[i][j]\n",
    "#         for m, n in second:\n",
    "#             prior += beta*latent[m][n]*latent[i][j]\n",
    "    return prior\n",
    "\n",
    "def energy(l, p):\n",
    "    return np.exp(l + p)\n",
    "    \n",
    "        "
   ]
  },
  {
   "cell_type": "code",
   "execution_count": 9,
   "metadata": {},
   "outputs": [],
   "source": [
    "originalImage = convertLatent(im)\n",
    "def totalBlack(image):\n",
    "    black = 0\n",
    "    for i in range(image.shape[0]):\n",
    "            for j in range(image.shape[1]):\n",
    "                if image[i][j] == -1:\n",
    "                    black += 1\n",
    "    return black\n",
    "def pixelPercentage(latent, real):    \n",
    "    counter = 0\n",
    "    totalPix = totalBlack(real)\n",
    "    for i in range(latent.shape[0]):\n",
    "        for j in range(latent.shape[1]):\n",
    "            if latent[i][j] == -1 and real[i][j] == -1:\n",
    "                counter += 1\n",
    "    return counter/totalPix\n",
    "    "
   ]
  },
  {
   "cell_type": "code",
   "execution_count": 10,
   "metadata": {},
   "outputs": [],
   "source": [
    "import math\n",
    "def gibbsy(image, beta, eta,runs):\n",
    "    latentImage = copy.deepcopy(image)\n",
    "    for n in range(runs):\n",
    "        print(\"PIXEL SIMILARITY: \" + str(pixelPercentage(latentImage, originalImage)))\n",
    "        for i in range(image.shape[0]):\n",
    "            for j in range(image.shape[1]):\n",
    "                latentImage[i][j] = 1\n",
    "                posEnergy = math.exp(calculateEnergy(latentImage, image, i, j, beta, eta))\n",
    "                latentImage[i][j] = -1\n",
    "                negEnergy = math.exp(calculateEnergy(latentImage, image, i, j, beta, eta))\n",
    "                post = posEnergy/(posEnergy + negEnergy)\n",
    "                r = np.random.uniform(0,1)\n",
    "                if post >= r:\n",
    "                    latentImage[i][j] = 1\n",
    "                else:\n",
    "                    latentImage[i][j] = -1\n",
    "    return latentImage\n",
    "                \n",
    "\n",
    "                "
   ]
  },
  {
   "cell_type": "code",
   "execution_count": 27,
   "metadata": {},
   "outputs": [
    {
     "name": "stdout",
     "output_type": "stream",
     "text": [
      "PIXEL SIMILARITY: 0.8922091782283885\n",
      "PIXEL SIMILARITY: 0.9503735325506937\n",
      "PIXEL SIMILARITY: 0.9466382070437567\n",
      "PIXEL SIMILARITY: 0.932230522945571\n",
      "PIXEL SIMILARITY: 0.9338313767342583\n",
      "PIXEL SIMILARITY: 0.9364994663820705\n",
      "PIXEL SIMILARITY: 0.9300960512273212\n",
      "PIXEL SIMILARITY: 0.9290288153681964\n",
      "PIXEL SIMILARITY: 0.9364994663820705\n",
      "PIXEL SIMILARITY: 0.9397011739594451\n"
     ]
    },
    {
     "data": {
      "text/plain": [
       "<matplotlib.image.AxesImage at 0x7f03e230bdd8>"
      ]
     },
     "execution_count": 27,
     "metadata": {},
     "output_type": "execute_result"
    },
    {
     "data": {
      "image/png": "[encoded data removed]",
      "text/plain": [
       "<Figure size 432x288 with 2 Axes>"
      ]
     },
     "metadata": {
      "needs_background": "light"
     },
     "output_type": "display_data"
    }
   ],
   "source": [
    "fig = plt.figure()\n",
    "ax = fig.add_subplot(131)\n",
    "ax.imshow(gibbsy(im2, 0.5, 1, 10),cmap='gray')\n",
    "ax2 = fig.add_subplot(132)\n",
    "ax2.imshow(im2,cmap='gray')"
   ]
  },
  {
   "cell_type": "code",
   "execution_count": 26,
   "metadata": {},
   "outputs": [
    {
     "name": "stdout",
     "output_type": "stream",
     "text": [
      "PIXEL SIMILARITY: 0.9028815368196371\n",
      "PIXEL SIMILARITY: 0.8996798292422625\n",
      "PIXEL SIMILARITY: 0.9002134471718249\n",
      "PIXEL SIMILARITY: 0.9007470651013874\n",
      "PIXEL SIMILARITY: 0.9018143009605123\n",
      "PIXEL SIMILARITY: 0.9002134471718249\n",
      "PIXEL SIMILARITY: 0.9002134471718249\n",
      "PIXEL SIMILARITY: 0.9018143009605123\n",
      "PIXEL SIMILARITY: 0.9002134471718249\n",
      "PIXEL SIMILARITY: 0.8991462113127001\n"
     ]
    },
    {
     "data": {
      "text/plain": [
       "<matplotlib.image.AxesImage at 0x7f03e237c2e8>"
      ]
     },
     "execution_count": 26,
     "metadata": {},
     "output_type": "execute_result"
    },
    {
     "data": {
      "image/png": "[encoded data removed]",
      "text/plain": [
       "<Figure size 432x288 with 2 Axes>"
      ]
     },
     "metadata": {
      "needs_background": "light"
     },
     "output_type": "display_data"
    }
   ],
   "source": [
    "fig = plt.figure()\n",
    "ax = fig.add_subplot(131)\n",
    "ax.imshow(gibbsy(im3, 0.5, 3, 10),cmap='gray')\n",
    "ax2 = fig.add_subplot(132)\n",
    "ax2.imshow(im3,cmap='gray')"
   ]
  },
  {
   "cell_type": "code",
   "execution_count": 38,
   "metadata": {},
   "outputs": [],
   "source": [
    "def gibbs(image, beta, eta, runs):\n",
    "    latentImage = np.random.randint(2, size=(image.shape))\n",
    "    for n in range(runs):\n",
    "        for i in range(image.shape[0]):\n",
    "            for j in range(image.shape[1]):\n",
    "                bros = neighbours(i, j, latentImage.shape[0], latentImage.shape[1])\n",
    "                latentImage[i][j] = 1\n",
    "                posEnergy = calculateEnergy(latentImage, image, i,j, beta, eta)\n",
    "                for m in bros:\n",
    "                    x, y = m\n",
    "                    posEnergy += calculateEnergy(latentImage, image, x, y, beta, eta)\n",
    "                posEnergy = np.exp(posEnergy)\n",
    "                \n",
    "                latentImage[i][j] = -1\n",
    "                negEnergy = calculateEnergy(latentImage, image, i,j, beta, eta)\n",
    "                for m in bros:\n",
    "                    x, y = m\n",
    "                    negEnergy += calculateEnergy(latentImage, image, x, y, beta, eta)\n",
    "                negEnergy = np.exp(negEnergy)\n",
    "                joint = posEnergy/(posEnergy+negEnergy)\n",
    "                negJoint = negEnergy/(posEnergy+negEnergy)\n",
    "                r = np.random.uniform(0,1)\n",
    "                if joint >= r:\n",
    "                    latentImage[i][j] = 1\n",
    "                else:\n",
    "                    latentImage[i][j] = -1\n",
    "    return latentImage"
   ]
  },
  {
   "cell_type": "code",
   "execution_count": 39,
   "metadata": {},
   "outputs": [
    {
     "data": {
      "text/plain": [
       "<matplotlib.image.AxesImage at 0x7f03e1d08588>"
      ]
     },
     "execution_count": 39,
     "metadata": {},
     "output_type": "execute_result"
    },
    {
     "data": {
      "image/png": "[encoded data removed]",
      "text/plain": [
       "<Figure size 432x288 with 2 Axes>"
      ]
     },
     "metadata": {
      "needs_background": "light"
     },
     "output_type": "display_data"
    }
   ],
   "source": [
    "fig = plt.figure()\n",
    "ax = fig.add_subplot(131)\n",
    "ax.imshow(gibbs(im3, 0.25, 2, 10),cmap='gray')\n",
    "ax2 = fig.add_subplot(132)\n",
    "ax2.imshow(im3,cmap='gray')"
   ]
  },
  {
   "cell_type": "code",
   "execution_count": 36,
   "metadata": {},
   "outputs": [],
   "source": [
    "np.random.seed(42)"
   ]
  },
  {
   "cell_type": "code",
   "execution_count": 47,
   "metadata": {},
   "outputs": [],
   "source": [
    "def randomGibbs(image, beta, eta, runs):\n",
    "    latentImage = np.random.randint(2, size=(image.shape))\n",
    "    for i in range(runs):\n",
    "        i = np.randint(0, image.shape[0])\n",
    "        j = np.randint(0, image.shape[1])\n",
    "        bros = neighbours(i, j, latentImage.shape[0], latentImage.shape[1])\n",
    "        latentImage[i][j] = 1\n",
    "        posEnergy = calculateEnergy(latentImage, image, i,j, beta, eta)\n",
    "        for m in bros:\n",
    "            x, y = m\n",
    "            posEnergy += calculateEnergy(latentImage, image, x, y, beta, eta)\n",
    "        posEnergy = np.exp(posEnergy)\n",
    "\n",
    "        latentImage[i][j] = -1\n",
    "        negEnergy = calculateEnergy(latentImage, image, i,j, beta, eta)\n",
    "        for m in bros:\n",
    "            x, y = m\n",
    "            negEnergy += calculateEnergy(latentImage, image, x, y, beta, eta)\n",
    "        negEnergy = np.exp(negEnergy)\n",
    "        joint = posEnergy/(posEnergy+negEnergy)\n",
    "        negJoint = negEnergy/(posEnergy+negEnergy)\n",
    "        r = np.random.uniform(0,1)\n",
    "        if joint >= r:\n",
    "            latentImage[i][j] = 1\n",
    "        else:\n",
    "            latentImage[i][j] = -1\n",
    "        print(\"PIXEL SIMILARITY: \" + str(pixelPercentage(latentImage, originalImage)))\n",
    "    "
   ]
  },
  {
   "cell_type": "code",
   "execution_count": 48,
   "metadata": {},
   "outputs": [
    {
     "ename": "AttributeError",
     "evalue": "module 'numpy' has no attribute 'randint'",
     "output_type": "error",
     "traceback": [
      "\u001b[0;31m---------------------------------------------------------------------------\u001b[0m",
      "\u001b[0;31mAttributeError\u001b[0m                            Traceback (most recent call last)",
      "\u001b[0;32m<ipython-input-48-719dd1fc3126>\u001b[0m in \u001b[0;36m<module>\u001b[0;34m\u001b[0m\n\u001b[1;32m      1\u001b[0m \u001b[0mfig\u001b[0m \u001b[0;34m=\u001b[0m \u001b[0mplt\u001b[0m\u001b[0;34m.\u001b[0m\u001b[0mfigure\u001b[0m\u001b[0;34m(\u001b[0m\u001b[0;34m)\u001b[0m\u001b[0;34m\u001b[0m\u001b[0m\n\u001b[1;32m      2\u001b[0m \u001b[0max\u001b[0m \u001b[0;34m=\u001b[0m \u001b[0mfig\u001b[0m\u001b[0;34m.\u001b[0m\u001b[0madd_subplot\u001b[0m\u001b[0;34m(\u001b[0m\u001b[0;36m131\u001b[0m\u001b[0;34m)\u001b[0m\u001b[0;34m\u001b[0m\u001b[0m\n\u001b[0;32m----> 3\u001b[0;31m \u001b[0max\u001b[0m\u001b[0;34m.\u001b[0m\u001b[0mimshow\u001b[0m\u001b[0;34m(\u001b[0m\u001b[0mrandomGibbs\u001b[0m\u001b[0;34m(\u001b[0m\u001b[0mim3\u001b[0m\u001b[0;34m,\u001b[0m \u001b[0;36m0.25\u001b[0m\u001b[0;34m,\u001b[0m \u001b[0;36m2\u001b[0m\u001b[0;34m,\u001b[0m \u001b[0;36m10\u001b[0m\u001b[0;34m)\u001b[0m\u001b[0;34m,\u001b[0m\u001b[0mcmap\u001b[0m\u001b[0;34m=\u001b[0m\u001b[0;34m'gray'\u001b[0m\u001b[0;34m)\u001b[0m\u001b[0;34m\u001b[0m\u001b[0m\n\u001b[0m\u001b[1;32m      4\u001b[0m \u001b[0max2\u001b[0m \u001b[0;34m=\u001b[0m \u001b[0mfig\u001b[0m\u001b[0;34m.\u001b[0m\u001b[0madd_subplot\u001b[0m\u001b[0;34m(\u001b[0m\u001b[0;36m132\u001b[0m\u001b[0;34m)\u001b[0m\u001b[0;34m\u001b[0m\u001b[0m\n\u001b[1;32m      5\u001b[0m \u001b[0max2\u001b[0m\u001b[0;34m.\u001b[0m\u001b[0mimshow\u001b[0m\u001b[0;34m(\u001b[0m\u001b[0mim3\u001b[0m\u001b[0;34m,\u001b[0m\u001b[0mcmap\u001b[0m\u001b[0;34m=\u001b[0m\u001b[0;34m'gray'\u001b[0m\u001b[0;34m)\u001b[0m\u001b[0;34m\u001b[0m\u001b[0m\n",
      "\u001b[0;32m<ipython-input-47-120f9a06e4e5>\u001b[0m in \u001b[0;36mrandomGibbs\u001b[0;34m(image, beta, eta, runs)\u001b[0m\n\u001b[1;32m      2\u001b[0m     \u001b[0mlatentImage\u001b[0m \u001b[0;34m=\u001b[0m \u001b[0mnp\u001b[0m\u001b[0;34m.\u001b[0m\u001b[0mrandom\u001b[0m\u001b[0;34m.\u001b[0m\u001b[0mrandint\u001b[0m\u001b[0;34m(\u001b[0m\u001b[0;36m2\u001b[0m\u001b[0;34m,\u001b[0m \u001b[0msize\u001b[0m\u001b[0;34m=\u001b[0m\u001b[0;34m(\u001b[0m\u001b[0mimage\u001b[0m\u001b[0;34m.\u001b[0m\u001b[0mshape\u001b[0m\u001b[0;34m)\u001b[0m\u001b[0;34m)\u001b[0m\u001b[0;34m\u001b[0m\u001b[0m\n\u001b[1;32m      3\u001b[0m     \u001b[0;32mfor\u001b[0m \u001b[0mi\u001b[0m \u001b[0;32min\u001b[0m \u001b[0mrange\u001b[0m\u001b[0;34m(\u001b[0m\u001b[0mruns\u001b[0m\u001b[0;34m)\u001b[0m\u001b[0;34m:\u001b[0m\u001b[0;34m\u001b[0m\u001b[0m\n\u001b[0;32m----> 4\u001b[0;31m         \u001b[0mi\u001b[0m \u001b[0;34m=\u001b[0m \u001b[0mnp\u001b[0m\u001b[0;34m.\u001b[0m\u001b[0mrandint\u001b[0m\u001b[0;34m(\u001b[0m\u001b[0;36m0\u001b[0m\u001b[0;34m,\u001b[0m \u001b[0mimage\u001b[0m\u001b[0;34m.\u001b[0m\u001b[0mshape\u001b[0m\u001b[0;34m[\u001b[0m\u001b[0;36m0\u001b[0m\u001b[0;34m]\u001b[0m\u001b[0;34m)\u001b[0m\u001b[0;34m\u001b[0m\u001b[0m\n\u001b[0m\u001b[1;32m      5\u001b[0m         \u001b[0mj\u001b[0m \u001b[0;34m=\u001b[0m \u001b[0mnp\u001b[0m\u001b[0;34m.\u001b[0m\u001b[0mrandint\u001b[0m\u001b[0;34m(\u001b[0m\u001b[0;36m0\u001b[0m\u001b[0;34m,\u001b[0m \u001b[0mimage\u001b[0m\u001b[0;34m.\u001b[0m\u001b[0mshape\u001b[0m\u001b[0;34m[\u001b[0m\u001b[0;36m1\u001b[0m\u001b[0;34m]\u001b[0m\u001b[0;34m)\u001b[0m\u001b[0;34m\u001b[0m\u001b[0m\n\u001b[1;32m      6\u001b[0m         \u001b[0mbros\u001b[0m \u001b[0;34m=\u001b[0m \u001b[0mneighbours\u001b[0m\u001b[0;34m(\u001b[0m\u001b[0mi\u001b[0m\u001b[0;34m,\u001b[0m \u001b[0mj\u001b[0m\u001b[0;34m,\u001b[0m \u001b[0mlatentImage\u001b[0m\u001b[0;34m.\u001b[0m\u001b[0mshape\u001b[0m\u001b[0;34m[\u001b[0m\u001b[0;36m0\u001b[0m\u001b[0;34m]\u001b[0m\u001b[0;34m,\u001b[0m \u001b[0mlatentImage\u001b[0m\u001b[0;34m.\u001b[0m\u001b[0mshape\u001b[0m\u001b[0;34m[\u001b[0m\u001b[0;36m1\u001b[0m\u001b[0;34m]\u001b[0m\u001b[0;34m)\u001b[0m\u001b[0;34m\u001b[0m\u001b[0m\n",
      "\u001b[0;31mAttributeError\u001b[0m: module 'numpy' has no attribute 'randint'"
     ]
    },
    {
     "data": {
      "image/png": "[encoded data removed]",
      "text/plain": [
       "<Figure size 432x288 with 1 Axes>"
      ]
     },
     "metadata": {
      "needs_background": "light"
     },
     "output_type": "display_data"
    }
   ],
   "source": [
    "fig = plt.figure()\n",
    "ax = fig.add_subplot(131)\n",
    "ax.imshow(randomGibbs(im3, 0.25, 2, 10),cmap='gray')\n",
    "ax2 = fig.add_subplot(132)\n",
    "ax2.imshow(im3,cmap='gray')"
   ]
  }
 ],
 "metadata": {
  "kernelspec": {
   "display_name": "Python 3",
   "language": "python",
   "name": "python3"
  },
  "language_info": {
   "codemirror_mode": {
    "name": "ipython",
    "version": 3
   },
   "file_extension": ".py",
   "mimetype": "text/x-python",
   "name": "python",
   "nbconvert_exporter": "python",
   "pygments_lexer": "ipython3",
   "version": "3.7.0"
  }
 },
 "nbformat": 4,
 "nbformat_minor": 2
}
